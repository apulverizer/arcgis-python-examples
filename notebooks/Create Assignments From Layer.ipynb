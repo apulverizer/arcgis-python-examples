{
 "cells": [
  {
   "cell_type": "markdown",
   "metadata": {},
   "source": [
    "## Building Project From Existing Layer"
   ]
  },
  {
   "cell_type": "code",
   "execution_count": null,
   "metadata": {
    "collapsed": false
   },
   "outputs": [],
   "source": [
    "# import libraries\n",
    "import arcgis\n",
    "import datetime\n",
    "\n",
    "# Set some properties\n",
    "org = \"https://arcgis.com\"\n",
    "username = \"<username>\"\n",
    "project_id = \"<project-id>\"\n",
    "restaurants_fs_id = \"<feature-service-id>\"\n",
    "\n",
    "gis = arcgis.gis.GIS(org, username)\n",
    "project_data = gis.content.get(project_id).get_data()"
   ]
  },
  {
   "cell_type": "markdown",
   "metadata": {},
   "source": [
    "### Adding The Restaurants Layer To The Dispatcher Map"
   ]
  },
  {
   "cell_type": "code",
   "execution_count": null,
   "metadata": {
    "collapsed": false
   },
   "outputs": [],
   "source": [
    "dispatcher_webmap = arcgis.mapping.WebMap(gis.content.get(project_data[\"dispatcherWebMapId\"]))\n",
    "restaurants_layer = gis.content.get(restaurants_fs_id).layers[0]\n",
    "dispatcher_webmap.layers\n",
    "dispatcher_webmap.add_layer(restaurants_layer)\n",
    "dispatcher_webmap.update({})\n",
    "dispatcher_webmap"
   ]
  },
  {
   "cell_type": "markdown",
   "metadata": {},
   "source": [
    "### Adding A Worker/Inspector To The Project"
   ]
  },
  {
   "cell_type": "code",
   "execution_count": null,
   "metadata": {
    "collapsed": false
   },
   "outputs": [],
   "source": [
    "worker = arcgis.features.Feature(attributes={\n",
    "    \"name\": \"<worker name>\",\n",
    "    \"status\": 0,\n",
    "    \"userId\": \"<worker_username>\"\n",
    "})\n",
    "workers_fl = gis.content.get(project_data[\"workers\"][\"serviceItemId\"]).layers[0]\n",
    "workers_fl.edit_features(adds=[worker])"
   ]
  },
  {
   "cell_type": "code",
   "execution_count": null,
   "metadata": {
    "collapsed": false
   },
   "outputs": [],
   "source": [
    "group = gis.groups.get(project_data[\"groupId\"])\n",
    "group.add_users([\"<worker_username>\"])\n",
    "worker = workers_fl.query(where=\"userId='<worker_username>'\").features[0]"
   ]
  },
  {
   "cell_type": "markdown",
   "metadata": {},
   "source": [
    "### Add An \"Kitchen Inspection\" Assignment Type"
   ]
  },
  {
   "cell_type": "code",
   "execution_count": null,
   "metadata": {
    "collapsed": false,
    "scrolled": true
   },
   "outputs": [],
   "source": [
    "assignment_fl = gis.content.get(project_data[\"assignments\"][\"serviceItemId\"]).layers[0]\n",
    "assignment_types = [\"Kitchen Inspection\"]\n",
    "for field in assignment_fl.properties[\"fields\"]:\n",
    "    if field[\"name\"].lower() == \"assignmenttype\":\n",
    "        for assignment_type in assignment_types:\n",
    "            # Next coded value\n",
    "            codes = [x[\"code\"] for x in field[\"domain\"][\"codedValues\"]]\n",
    "            if codes:\n",
    "                next_code = max(codes) + 1\n",
    "            else:\n",
    "                next_code = 1\n",
    "            field[\"domain\"][\"codedValues\"].append(\n",
    "                {\n",
    "                    \"name\": assignment_type,\n",
    "                    \"code\": next_code\n",
    "                }\n",
    "            )\n",
    "        break\n",
    "assignment_fl.manager.update_definition({\n",
    "    'fields': assignment_fl.properties['fields']\n",
    "})"
   ]
  },
  {
   "cell_type": "markdown",
   "metadata": {},
   "source": [
    "### Add an assignment to each restaurant"
   ]
  },
  {
   "cell_type": "code",
   "execution_count": null,
   "metadata": {
    "collapsed": false
   },
   "outputs": [],
   "source": [
    "restaurants = restaurants_layer.query().features\n",
    "assignments = []\n",
    "for restaurant in restaurants:\n",
    "    new_assignment = arcgis.features.Feature(geometry=restaurant.geometry, attributes={\n",
    "        \"location\": restaurant.attributes[\"Address\"],\n",
    "        \"assignmentType\": 1,\n",
    "        \"assignmentRead\": 0,\n",
    "        \"workerId\": worker.attributes[\"OBJECTID\"],\n",
    "        \"status\": 1,\n",
    "        \"assignedDate\": datetime.datetime.now()\n",
    "    })\n",
    "    assignments.append(new_assignment)\n",
    "assignment_fl.edit_features(adds=assignments)"
   ]
  },
  {
   "cell_type": "code",
   "execution_count": null,
   "metadata": {
    "collapsed": false
   },
   "outputs": [],
   "source": [
    "dispatcher_webmap"
   ]
  }
 ],
 "metadata": {
  "kernelspec": {
   "display_name": "Python 3",
   "language": "python",
   "name": "python3"
  },
  "language_info": {
   "codemirror_mode": {
    "name": "ipython",
    "version": 3
   },
   "file_extension": ".py",
   "mimetype": "text/x-python",
   "name": "python",
   "nbconvert_exporter": "python",
   "pygments_lexer": "ipython3",
   "version": "3.6.0"
  }
 },
 "nbformat": 4,
 "nbformat_minor": 0
}
