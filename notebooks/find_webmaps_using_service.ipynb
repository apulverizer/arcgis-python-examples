{
 "cells": [
  {
   "cell_type": "code",
   "execution_count": 1,
   "metadata": {
    "collapsed": true
   },
   "outputs": [],
   "source": [
    "import arcgis"
   ]
  },
  {
   "cell_type": "code",
   "execution_count": 28,
   "metadata": {
    "collapsed": true
   },
   "outputs": [],
   "source": [
    "org = \"https://arcgis.com\"\n",
    "username = \"<username>\"\n",
    "password = \"<password>\"\n",
    "# Example: http://services.arcgisonline.com/ArcGIS/rest/services/World_Topo_Map/MapServer\n",
    "service_to_check = \"<service or layer url>\"\n",
    "service_without_sub_layer = \"\".join(service_to_check.split(\"//\")[-1].split('/')[:-1])\n",
    "# Authenticate with the org and create the GIS object\n",
    "gis = arcgis.gis.GIS(org, username, password)"
   ]
  },
  {
   "cell_type": "code",
   "execution_count": 29,
   "metadata": {
    "collapsed": false,
    "scrolled": true
   },
   "outputs": [
    {
     "name": "stdout",
     "output_type": "stream",
     "text": []
    }
   ],
   "source": [
    "# The list to store the webmaps that use the service\n",
    "webmaps_with_service = []\n",
    "# Search for first 1000 webmaps\n",
    "webmaps = gis.content.search('type:(\"Web Map\" NOT \"Web Mapping Application\")', max_items=1000)\n",
    "# Iterate over each map\n",
    "for webmap in webmaps:\n",
    "    service_in_map = False\n",
    "    # Get the webmap json\n",
    "    data = webmap.get_data()\n",
    "    if \"operationalLayers\" in data:\n",
    "        # Iterate over the the operational layers\n",
    "        for operational_layer in data[\"operationalLayers\"]:\n",
    "            # Check if the url matches the service (match with sub-layer or not)\n",
    "            if \"url\" in operational_layer and operational_layer[\"url\"]:\n",
    "                layer_with_sub_layer = operational_layer[\"url\"].split(\"//\")[-1]\n",
    "                layer_without_sub_layer = \"/\".join(operational_layer[\"url\"].split(\"//\")[-1].split('/')[:-1])\n",
    "                if layer_without_sub_layer in service_to_check or \\\n",
    "                        layer_without_sub_layer in service_without_sub_layer or \\\n",
    "                        layer_with_sub_layer in service_to_check or \\\n",
    "                        layer_without_sub_layer in service_without_sub_layer:\n",
    "                    webmaps_with_service.append(webmap)\n",
    "                    service_in_map = True\n",
    "                    break\n",
    "    if not service_in_map and \"baseMap\" in data:\n",
    "        if \"baseMapLayers\" in data[\"baseMap\"]:\n",
    "            # Iterate over the the basemap layers\n",
    "            for basemap_layer in data[\"baseMap\"][\"baseMapLayers\"]:\n",
    "                # Check if the url matches the service (match with sub-layer or not)\n",
    "                if \"url\" in basemap_layer and basemap_layer[\"url\"]:\n",
    "                    layer_with_sub_layer = basemap_layer[\"url\"].split(\"//\")[-1]\n",
    "                    layer_without_sub_layer = \"/\".join(basemap_layer[\"url\"].split(\"//\")[-1].split('/')[:-1])\n",
    "                    if layer_without_sub_layer in service_to_check or \\\n",
    "                            layer_without_sub_layer in service_without_sub_layer or \\\n",
    "                            layer_with_sub_layer in service_to_check or \\\n",
    "                            layer_without_sub_layer in service_without_sub_layer:\n",
    "                        webmaps_with_service.append(webmap)\n",
    "                        service_in_map = True\n",
    "                        break\n",
    "# Print the webmap ids that use the service\n",
    "if webmaps_with_service:\n",
    "    print(\"Webmap ids that use this service\")\n",
    "    for webmap in webmaps_with_service:\n",
    "        print(\"{}(id:{})\".format(webmap.title, webmap.id))\n",
    "else:\n",
    "    print(\"No webmaps use this service\")"
   ]
  }
 ],
 "metadata": {
  "kernelspec": {
   "display_name": "Python 3",
   "language": "python",
   "name": "python3"
  },
  "language_info": {
   "codemirror_mode": {
    "name": "ipython",
    "version": 3.0
   },
   "file_extension": ".py",
   "mimetype": "text/x-python",
   "name": "python",
   "nbconvert_exporter": "python",
   "pygments_lexer": "ipython3",
   "version": "3.6.0"
  }
 },
 "nbformat": 4,
 "nbformat_minor": 0
}